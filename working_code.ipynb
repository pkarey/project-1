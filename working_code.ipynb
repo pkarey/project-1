{
 "cells": [
  {
   "cell_type": "code",
   "execution_count": 14,
   "metadata": {},
   "outputs": [
    {
     "name": "stdout",
     "output_type": "stream",
     "text": [
      "Requirement already satisfied: pandas in c:\\python310\\lib\\site-packages (2.1.4)\n",
      "Requirement already satisfied: matplotlib in c:\\python310\\lib\\site-packages (3.8.2)\n",
      "Collecting seaborn\n",
      "  Downloading seaborn-0.13.0-py3-none-any.whl (294 kB)\n",
      "     -------------------------------------- 294.6/294.6 KB 9.2 MB/s eta 0:00:00\n",
      "Requirement already satisfied: pytz>=2020.1 in c:\\python310\\lib\\site-packages (from pandas) (2023.3.post1)\n",
      "Requirement already satisfied: numpy<2,>=1.22.4 in c:\\python310\\lib\\site-packages (from pandas) (1.26.2)\n",
      "Requirement already satisfied: python-dateutil>=2.8.2 in c:\\users\\jsnow\\appdata\\roaming\\python\\python310\\site-packages (from pandas) (2.8.2)\n",
      "Requirement already satisfied: tzdata>=2022.1 in c:\\python310\\lib\\site-packages (from pandas) (2023.4)\n",
      "Requirement already satisfied: fonttools>=4.22.0 in c:\\python310\\lib\\site-packages (from matplotlib) (4.47.0)\n",
      "Requirement already satisfied: kiwisolver>=1.3.1 in c:\\python310\\lib\\site-packages (from matplotlib) (1.4.5)\n",
      "Requirement already satisfied: contourpy>=1.0.1 in c:\\python310\\lib\\site-packages (from matplotlib) (1.2.0)\n",
      "Requirement already satisfied: packaging>=20.0 in c:\\users\\jsnow\\appdata\\roaming\\python\\python310\\site-packages (from matplotlib) (23.2)\n",
      "Requirement already satisfied: pillow>=8 in c:\\python310\\lib\\site-packages (from matplotlib) (10.1.0)\n",
      "Requirement already satisfied: cycler>=0.10 in c:\\python310\\lib\\site-packages (from matplotlib) (0.12.1)\n",
      "Requirement already satisfied: pyparsing>=2.3.1 in c:\\python310\\lib\\site-packages (from matplotlib) (3.1.1)\n",
      "Requirement already satisfied: six>=1.5 in c:\\users\\jsnow\\appdata\\roaming\\python\\python310\\site-packages (from python-dateutil>=2.8.2->pandas) (1.16.0)\n",
      "Installing collected packages: seaborn\n",
      "Successfully installed seaborn-0.13.0\n"
     ]
    },
    {
     "name": "stderr",
     "output_type": "stream",
     "text": [
      "WARNING: You are using pip version 22.0.4; however, version 23.3.2 is available.\n",
      "You should consider upgrading via the 'C:\\Python310\\python.exe -m pip install --upgrade pip' command.\n"
     ]
    }
   ],
   "source": [
    "!pip3 install pandas matplotlib seaborn"
   ]
  },
  {
   "cell_type": "code",
   "execution_count": 4,
   "metadata": {},
   "outputs": [],
   "source": [
    "import pandas as pd  # For Data Manipulation\n",
    "import numpy as np  # For Array Manipulation\n",
    "\n",
    "#import calendar  # For Month Manipulation\n",
    "\n",
    "import matplotlib.pyplot as plt  # For Data Visualization\n",
    "#import seaborn as sb  # For Data Visualization"
   ]
  },
  {
   "cell_type": "code",
   "execution_count": 6,
   "metadata": {},
   "outputs": [],
   "source": [
    "music = pd.read_csv(r\"mxmh_survey_results.csv\", encoding= \"Latin-1\")"
   ]
  },
  {
   "cell_type": "code",
   "execution_count": 7,
   "metadata": {},
   "outputs": [
    {
     "data": {
      "text/html": [
       "<div>\n",
       "<style scoped>\n",
       "    .dataframe tbody tr th:only-of-type {\n",
       "        vertical-align: middle;\n",
       "    }\n",
       "\n",
       "    .dataframe tbody tr th {\n",
       "        vertical-align: top;\n",
       "    }\n",
       "\n",
       "    .dataframe thead th {\n",
       "        text-align: right;\n",
       "    }\n",
       "</style>\n",
       "<table border=\"1\" class=\"dataframe\">\n",
       "  <thead>\n",
       "    <tr style=\"text-align: right;\">\n",
       "      <th></th>\n",
       "      <th>Timestamp</th>\n",
       "      <th>Age</th>\n",
       "      <th>Primary streaming service</th>\n",
       "      <th>Hours per day</th>\n",
       "      <th>While working</th>\n",
       "      <th>Instrumentalist</th>\n",
       "      <th>Composer</th>\n",
       "      <th>Fav genre</th>\n",
       "      <th>Exploratory</th>\n",
       "      <th>Foreign languages</th>\n",
       "      <th>...</th>\n",
       "      <th>Frequency [R&amp;B]</th>\n",
       "      <th>Frequency [Rap]</th>\n",
       "      <th>Frequency [Rock]</th>\n",
       "      <th>Frequency [Video game music]</th>\n",
       "      <th>Anxiety</th>\n",
       "      <th>Depression</th>\n",
       "      <th>Insomnia</th>\n",
       "      <th>OCD</th>\n",
       "      <th>Music effects</th>\n",
       "      <th>Permissions</th>\n",
       "    </tr>\n",
       "  </thead>\n",
       "  <tbody>\n",
       "    <tr>\n",
       "      <th>662</th>\n",
       "      <td>9/14/2022 0:58:57</td>\n",
       "      <td>32.0</td>\n",
       "      <td>Spotify</td>\n",
       "      <td>1.0</td>\n",
       "      <td>Yes</td>\n",
       "      <td>No</td>\n",
       "      <td>No</td>\n",
       "      <td>Metal</td>\n",
       "      <td>Yes</td>\n",
       "      <td>Yes</td>\n",
       "      <td>...</td>\n",
       "      <td>Rarely</td>\n",
       "      <td>Sometimes</td>\n",
       "      <td>Very frequently</td>\n",
       "      <td>Rarely</td>\n",
       "      <td>6.0</td>\n",
       "      <td>8.0</td>\n",
       "      <td>7.0</td>\n",
       "      <td>0.0</td>\n",
       "      <td>Improve</td>\n",
       "      <td>I understand.</td>\n",
       "    </tr>\n",
       "    <tr>\n",
       "      <th>234</th>\n",
       "      <td>8/28/2022 22:39:24</td>\n",
       "      <td>30.0</td>\n",
       "      <td>Spotify</td>\n",
       "      <td>6.0</td>\n",
       "      <td>Yes</td>\n",
       "      <td>No</td>\n",
       "      <td>No</td>\n",
       "      <td>Folk</td>\n",
       "      <td>Yes</td>\n",
       "      <td>Yes</td>\n",
       "      <td>...</td>\n",
       "      <td>Never</td>\n",
       "      <td>Never</td>\n",
       "      <td>Very frequently</td>\n",
       "      <td>Never</td>\n",
       "      <td>9.0</td>\n",
       "      <td>0.0</td>\n",
       "      <td>5.0</td>\n",
       "      <td>0.0</td>\n",
       "      <td>No effect</td>\n",
       "      <td>I understand.</td>\n",
       "    </tr>\n",
       "    <tr>\n",
       "      <th>427</th>\n",
       "      <td>8/30/2022 17:33:13</td>\n",
       "      <td>31.0</td>\n",
       "      <td>I do not use a streaming service.</td>\n",
       "      <td>4.0</td>\n",
       "      <td>Yes</td>\n",
       "      <td>Yes</td>\n",
       "      <td>No</td>\n",
       "      <td>Classical</td>\n",
       "      <td>Yes</td>\n",
       "      <td>Yes</td>\n",
       "      <td>...</td>\n",
       "      <td>Never</td>\n",
       "      <td>Never</td>\n",
       "      <td>Sometimes</td>\n",
       "      <td>Sometimes</td>\n",
       "      <td>8.0</td>\n",
       "      <td>8.0</td>\n",
       "      <td>9.0</td>\n",
       "      <td>3.0</td>\n",
       "      <td>Improve</td>\n",
       "      <td>I understand.</td>\n",
       "    </tr>\n",
       "    <tr>\n",
       "      <th>513</th>\n",
       "      <td>9/2/2022 5:21:18</td>\n",
       "      <td>63.0</td>\n",
       "      <td>YouTube Music</td>\n",
       "      <td>8.0</td>\n",
       "      <td>Yes</td>\n",
       "      <td>No</td>\n",
       "      <td>No</td>\n",
       "      <td>Rock</td>\n",
       "      <td>Yes</td>\n",
       "      <td>No</td>\n",
       "      <td>...</td>\n",
       "      <td>Rarely</td>\n",
       "      <td>Never</td>\n",
       "      <td>Sometimes</td>\n",
       "      <td>Never</td>\n",
       "      <td>2.0</td>\n",
       "      <td>1.0</td>\n",
       "      <td>2.0</td>\n",
       "      <td>2.0</td>\n",
       "      <td>Improve</td>\n",
       "      <td>I understand.</td>\n",
       "    </tr>\n",
       "    <tr>\n",
       "      <th>263</th>\n",
       "      <td>8/29/2022 0:39:19</td>\n",
       "      <td>20.0</td>\n",
       "      <td>Spotify</td>\n",
       "      <td>3.0</td>\n",
       "      <td>No</td>\n",
       "      <td>No</td>\n",
       "      <td>No</td>\n",
       "      <td>Country</td>\n",
       "      <td>Yes</td>\n",
       "      <td>Yes</td>\n",
       "      <td>...</td>\n",
       "      <td>Very frequently</td>\n",
       "      <td>Rarely</td>\n",
       "      <td>Sometimes</td>\n",
       "      <td>Never</td>\n",
       "      <td>8.0</td>\n",
       "      <td>4.0</td>\n",
       "      <td>3.0</td>\n",
       "      <td>4.0</td>\n",
       "      <td>Improve</td>\n",
       "      <td>I understand.</td>\n",
       "    </tr>\n",
       "  </tbody>\n",
       "</table>\n",
       "<p>5 rows × 33 columns</p>\n",
       "</div>"
      ],
      "text/plain": [
       "              Timestamp   Age          Primary streaming service  \\\n",
       "662   9/14/2022 0:58:57  32.0                            Spotify   \n",
       "234  8/28/2022 22:39:24  30.0                            Spotify   \n",
       "427  8/30/2022 17:33:13  31.0  I do not use a streaming service.   \n",
       "513    9/2/2022 5:21:18  63.0                      YouTube Music   \n",
       "263   8/29/2022 0:39:19  20.0                            Spotify   \n",
       "\n",
       "     Hours per day While working Instrumentalist Composer  Fav genre  \\\n",
       "662            1.0           Yes              No       No      Metal   \n",
       "234            6.0           Yes              No       No       Folk   \n",
       "427            4.0           Yes             Yes       No  Classical   \n",
       "513            8.0           Yes              No       No       Rock   \n",
       "263            3.0            No              No       No    Country   \n",
       "\n",
       "    Exploratory Foreign languages  ...  Frequency [R&B] Frequency [Rap]  \\\n",
       "662         Yes               Yes  ...           Rarely       Sometimes   \n",
       "234         Yes               Yes  ...            Never           Never   \n",
       "427         Yes               Yes  ...            Never           Never   \n",
       "513         Yes                No  ...           Rarely           Never   \n",
       "263         Yes               Yes  ...  Very frequently          Rarely   \n",
       "\n",
       "    Frequency [Rock] Frequency [Video game music] Anxiety Depression Insomnia  \\\n",
       "662  Very frequently                       Rarely     6.0        8.0      7.0   \n",
       "234  Very frequently                        Never     9.0        0.0      5.0   \n",
       "427        Sometimes                    Sometimes     8.0        8.0      9.0   \n",
       "513        Sometimes                        Never     2.0        1.0      2.0   \n",
       "263        Sometimes                        Never     8.0        4.0      3.0   \n",
       "\n",
       "     OCD Music effects    Permissions  \n",
       "662  0.0       Improve  I understand.  \n",
       "234  0.0     No effect  I understand.  \n",
       "427  3.0       Improve  I understand.  \n",
       "513  2.0       Improve  I understand.  \n",
       "263  4.0       Improve  I understand.  \n",
       "\n",
       "[5 rows x 33 columns]"
      ]
     },
     "execution_count": 7,
     "metadata": {},
     "output_type": "execute_result"
    }
   ],
   "source": [
    "music.sample(5)"
   ]
  },
  {
   "cell_type": "code",
   "execution_count": null,
   "metadata": {},
   "outputs": [],
   "source": [
    "music.info()"
   ]
  },
  {
   "cell_type": "code",
   "execution_count": null,
   "metadata": {},
   "outputs": [],
   "source": [
    "music = music.dropna(axis= 0)\n",
    "music['Mental Health'] = music['Anxiety'] + music['Depression'] + music['Insomnia'] + music['OCD']\n",
    "music.head()"
   ]
  },
  {
   "cell_type": "code",
   "execution_count": null,
   "metadata": {},
   "outputs": [],
   "source": [
    "cols = list(music.columns.values)\n",
    "cols"
   ]
  },
  {
   "cell_type": "code",
   "execution_count": null,
   "metadata": {},
   "outputs": [],
   "source": [
    "music['Fav genre'].unique()"
   ]
  },
  {
   "cell_type": "code",
   "execution_count": null,
   "metadata": {},
   "outputs": [],
   "source": [
    "fav_genre = music.groupby('Fav genre')\n",
    "\n",
    "video_game = fav_genre.get_group('Video game music')\n",
    "jazz = fav_genre.get_group('Jazz')\n",
    "rnb = fav_genre.get_group('R&B')\n",
    "k_pop = fav_genre.get_group('K pop')\n",
    "rock = fav_genre.get_group('Rock')\n",
    "edm = fav_genre.get_group('EDM')\n",
    "country = fav_genre.get_group('Country')\n",
    "hip_hop = fav_genre.get_group('Hip hop')\n",
    "rap = fav_genre.get_group('Rap')\n",
    "pop = fav_genre.get_group('Pop')\n",
    "classical = fav_genre.get_group('Classical')\n",
    "metal = fav_genre.get_group('Metal')\n",
    "folk = fav_genre.get_group('Folk')\n",
    "lofi = fav_genre.get_group('Lofi')\n",
    "gospel = fav_genre.get_group('Gospel')\n",
    "latin = fav_genre.get_group('Latin')\n",
    "\n",
    "video_game.describe()"
   ]
  },
  {
   "cell_type": "code",
   "execution_count": null,
   "metadata": {},
   "outputs": [],
   "source": [
    "video_game_stat = video_game.describe().transpose()\n",
    "jazz_stat = jazz.describe().transpose()\n",
    "rnb_stat = rnb.describe().transpose()\n",
    "k_pop_stat = k_pop.describe().transpose()\n",
    "rock_stat = rock.describe().transpose()\n",
    "edm_stat = edm.describe().transpose()\n",
    "country_stat = country.describe().transpose()\n",
    "hip_hop_stat = hip_hop.describe().transpose()\n",
    "rap_stat = rap.describe().transpose()\n",
    "pop_stat = pop.describe().transpose()\n",
    "classical_stat = classical.describe().transpose()\n",
    "metal_stat = metal.describe().transpose()\n",
    "folk_stat = folk.describe().transpose()\n",
    "lofi_stat = lofi.describe().transpose()\n",
    "gospel_stat = gospel.describe().transpose()\n",
    "latin_stat = latin.describe().transpose()\n",
    "latin_stat"
   ]
  },
  {
   "cell_type": "code",
   "execution_count": null,
   "metadata": {},
   "outputs": [],
   "source": [
    "x = pop['Hours per day']\n",
    "y = pop['Mental Health']\n",
    "plt.scatter(x, y)\n",
    "plt.xlabel(\"Hours Listened per Day\")\n",
    "plt.ylabel(\"Depression\")\n",
    "plt.title(\"Hours Listened vs Depression (Classical)\")\n",
    "plt.show()"
   ]
  },
  {
   "cell_type": "code",
   "execution_count": null,
   "metadata": {},
   "outputs": [],
   "source": [
    "\n",
    "#Based on the frequency of classical (all genres) \n",
    "\n",
    "#of music shows improvement (no improvement) with anxiety, aggression, insomnia and or OCD?\n",
    "\n",
    "#If listening to (given genre) several hours per day this will improve or not improve the mental outcome\n",
    "\n",
    "#How likely is someone going to listen to a specific genre of music?\n",
    "\n",
    "#If a higher or lower age group listens (name of genre) this will have a negative or positive impact on mental functioning.\n",
    "\n",
    "#BPM (beats per minute) over 100 to reflect anxiety, aggression, insomnia and or OCD?\n",
    "\n",
    "#Data profiling to clean any missing data -- like on a given day where data is missing \n",
    "\n",
    "#How can this influence the data and results of music impacting mental functioning \n"
   ]
  },
  {
   "cell_type": "code",
   "execution_count": 8,
   "metadata": {},
   "outputs": [],
   "source": [
    "#Popular genre across age group\n",
    "def age_group(age):\n",
    "    if age <= 18:\n",
    "        return \"0-18\"\n",
    "    elif age > 18 and age <=35:\n",
    "        return \"18-35\"\n",
    "    elif age > 35 and age <=100:\n",
    "        return \"35-100\"\n",
    "    else:\n",
    "        return \"error\""
   ]
  },
  {
   "cell_type": "code",
   "execution_count": 17,
   "metadata": {},
   "outputs": [],
   "source": [
    "music['age_grp'] = music['Age'].apply(age_group)\n",
    "music = music[music['age_grp'] != 'error']"
   ]
  },
  {
   "cell_type": "code",
   "execution_count": 12,
   "metadata": {},
   "outputs": [
    {
     "name": "stdout",
     "output_type": "stream",
     "text": [
      "0      0-18\n",
      "1    35-100\n",
      "2      0-18\n",
      "3    35-100\n",
      "4      0-18\n",
      "Name: age_grp, dtype: object\n"
     ]
    }
   ],
   "source": [
    "print(music['age_grp'].head(5))"
   ]
  },
  {
   "cell_type": "code",
   "execution_count": 18,
   "metadata": {},
   "outputs": [
    {
     "data": {
      "image/png": "[encoded data removed]",
      "text/plain": [
       "<Figure size 800x600 with 1 Axes>"
      ]
     },
     "metadata": {},
     "output_type": "display_data"
    }
   ],
   "source": [
    "age_grp_counts = music['age_grp'].value_counts().sort_index()\n",
    "\n",
    "import matplotlib.pyplot as plt\n",
    "import seaborn as sns\n",
    "\n",
    "\n",
    "plt.figure(figsize=(8,6))\n",
    "sns.barplot(x=age_grp_counts.index, y=age_grp_counts.values)\n",
    "plt.xlabel(\"Age Group\")\n",
    "plt.ylabel(\"Count\")\n",
    "plt.show()"
   ]
  },
  {
   "cell_type": "code",
   "execution_count": 19,
   "metadata": {},
   "outputs": [
    {
     "data": {
      "text/plain": [
       "Index(['Timestamp', 'Age', 'Primary streaming service', 'Hours per day',\n",
       "       'While working', 'Instrumentalist', 'Composer', 'Fav genre',\n",
       "       'Exploratory', 'Foreign languages', 'BPM', 'Frequency [Classical]',\n",
       "       'Frequency [Country]', 'Frequency [EDM]', 'Frequency [Folk]',\n",
       "       'Frequency [Gospel]', 'Frequency [Hip hop]', 'Frequency [Jazz]',\n",
       "       'Frequency [K pop]', 'Frequency [Latin]', 'Frequency [Lofi]',\n",
       "       'Frequency [Metal]', 'Frequency [Pop]', 'Frequency [R&B]',\n",
       "       'Frequency [Rap]', 'Frequency [Rock]', 'Frequency [Video game music]',\n",
       "       'Anxiety', 'Depression', 'Insomnia', 'OCD', 'Music effects',\n",
       "       'Permissions', 'age_grp'],\n",
       "      dtype='object')"
      ]
     },
     "execution_count": 19,
     "metadata": {},
     "output_type": "execute_result"
    }
   ],
   "source": [
    "music.columns"
   ]
  },
  {
   "cell_type": "code",
   "execution_count": null,
   "metadata": {},
   "outputs": [],
   "source": []
  }
 ],
 "metadata": {
  "kernelspec": {
   "display_name": "Python 3",
   "language": "python",
   "name": "python3"
  },
  "language_info": {
   "codemirror_mode": {
    "name": "ipython",
    "version": 3
   },
   "file_extension": ".py",
   "mimetype": "text/x-python",
   "name": "python",
   "nbconvert_exporter": "python",
   "pygments_lexer": "ipython3",
   "version": "3.10.5"
  }
 },
 "nbformat": 4,
 "nbformat_minor": 2
}
